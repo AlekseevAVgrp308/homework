{
  "nbformat": 4,
  "nbformat_minor": 0,
  "metadata": {
    "colab": {
      "provenance": []
    },
    "kernelspec": {
      "name": "python3",
      "display_name": "Python 3"
    },
    "language_info": {
      "name": "python"
    }
  },
  "cells": [
    {
      "cell_type": "code",
      "source": [
        "class Test:\n",
        "    @staticmethod\n",
        "    def assert_equals(a, b, *args, **kwargs):\n",
        "        assert a == b\n",
        "        print('Passed')"
      ],
      "metadata": {
        "id": "YLg49AlkIx0R"
      },
      "execution_count": 1,
      "outputs": []
    },
    {
      "cell_type": "markdown",
      "source": [
        "https://edabit.com/challenge/yvJbdkmKHvCNtcZy9 (3 балла)"
      ],
      "metadata": {
        "id": "cCWF2LTpFN-u"
      }
    },
    {
      "cell_type": "code",
      "source": [
        "def is_disarium(n):\n",
        "    qs = list(str(n))\n",
        "    res = sum([int(qs[i]) ** (i+1) for i in range(len(qs))])\n",
        "    if n == res:\n",
        "        return True\n",
        "    else:\n",
        "        return False\n"
      ],
      "metadata": {
        "id": "lXEjAaXgGPh3"
      },
      "execution_count": 2,
      "outputs": []
    },
    {
      "cell_type": "code",
      "source": [
        "num_vector, res_vector = [\n",
        "  [6, 75, 135, 466, 372, 175, 1, 696, 876, 89, 518, 598],\n",
        "  [True, False, True, False, False, True, True, False, False, True, True, True]\n",
        "]\n",
        "for i, n in enumerate(num_vector): Test.assert_equals(is_disarium(n), res_vector[i])"
      ],
      "metadata": {
        "colab": {
          "base_uri": "https://localhost:8080/"
        },
        "id": "1iXViqoIIyNf",
        "outputId": "774679ef-ae93-4f6c-bd66-b0fa70da0376"
      },
      "execution_count": 3,
      "outputs": [
        {
          "output_type": "stream",
          "name": "stdout",
          "text": [
            "Passed\n",
            "Passed\n",
            "Passed\n",
            "Passed\n",
            "Passed\n",
            "Passed\n",
            "Passed\n",
            "Passed\n",
            "Passed\n",
            "Passed\n",
            "Passed\n",
            "Passed\n"
          ]
        }
      ]
    },
    {
      "cell_type": "markdown",
      "source": [
        "https://edabit.com/challenge/7vN8ZRw43yuWNoy3Y (3 балла)"
      ],
      "metadata": {
        "id": "vFKgJOrJMWCc"
      }
    },
    {
      "cell_type": "code",
      "source": [
        "def parse_code(txt):\n",
        "    qs = [c for c in txt.split(\"0\") if c != '']\n",
        "    return{\"first_name\": qs[0], \"last_name\": qs[1], \"id\": qs[2]}"
      ],
      "metadata": {
        "id": "tTWwjAeCMbgS"
      },
      "execution_count": 6,
      "outputs": []
    },
    {
      "cell_type": "code",
      "source": [
        "Test.assert_equals(parse_code('John000Doe000123'), {'first_name': 'John', 'last_name': 'Doe', 'id': '123'})\n",
        "Test.assert_equals(parse_code('Michael0Smith004331'), {'first_name': 'Michael', 'last_name': 'Smith', 'id': '4331'})\n",
        "Test.assert_equals(parse_code('Thomas0000Lee0000045553'), {'first_name': 'Thomas', 'last_name': 'Lee', 'id': '45553'})\n",
        "Test.assert_equals(parse_code('a0b01'), {'first_name': 'a', 'last_name': 'b', 'id': '1'})"
      ],
      "metadata": {
        "colab": {
          "base_uri": "https://localhost:8080/"
        },
        "id": "25OukTw1Mix0",
        "outputId": "42f2d095-1e3c-476d-92f4-bbf52e38427e"
      },
      "execution_count": 7,
      "outputs": [
        {
          "output_type": "stream",
          "name": "stdout",
          "text": [
            "Passed\n",
            "Passed\n",
            "Passed\n",
            "Passed\n"
          ]
        }
      ]
    },
    {
      "cell_type": "markdown",
      "source": [
        "https://edabit.com/challenge/mHLAmj4vmRuXrT8Nb (3 балла)"
      ],
      "metadata": {
        "id": "TJlRiNtuMub4"
      }
    },
    {
      "cell_type": "code",
      "source": [
        "def consecutive_combo(lst1, lst2):\n",
        "    res = (lst1 + lst2)\n",
        "    res.sort()\n",
        "    if res == list(range(res[0], res[-1] + 1)):\n",
        "        return True\n",
        "    else:\n",
        "        return False\n"
      ],
      "metadata": {
        "id": "dKdf5rpAMuNB"
      },
      "execution_count": 8,
      "outputs": []
    },
    {
      "cell_type": "code",
      "source": [
        "Test.assert_equals(consecutive_combo([1, 4, 5, 7], [2, 3, 6]), True)\n",
        "Test.assert_equals(consecutive_combo([1, 4, 5, 6], [2, 7, 8, 9]), False)\n",
        "Test.assert_equals(consecutive_combo([1, 4, 5, 6], [2, 3, 7, 8, 10]), False)\n",
        "Test.assert_equals(consecutive_combo([7, 5, 4, 1], [2, 3, 6, 8]), True)\n",
        "Test.assert_equals(consecutive_combo([33, 34, 40], [39, 38, 37, 36, 35, 32, 31, 30]), True)\n",
        "Test.assert_equals(consecutive_combo([1, 4, 5, 6], [2, 3, 7, 8, 10]), False)\n",
        "Test.assert_equals(consecutive_combo([44, 46], [45]), True)\n",
        "Test.assert_equals(consecutive_combo([4, 3, 1], [2, 5]), True)\n",
        "Test.assert_equals(consecutive_combo([4, 3, 1], [2, 5, 7, 6]), True)\n",
        "Test.assert_equals(consecutive_combo([4, 3, 1], [7, 6, 5]), False)\n",
        "Test.assert_equals(consecutive_combo([4, 3, 1], [0, 7, 6, 5]), False)\n",
        "Test.assert_equals(consecutive_combo([44, 46], [45]), True)"
      ],
      "metadata": {
        "colab": {
          "base_uri": "https://localhost:8080/"
        },
        "id": "W-B3w6cmR9xn",
        "outputId": "933e89c3-8859-4f1d-8319-9ffb32b24057"
      },
      "execution_count": 9,
      "outputs": [
        {
          "output_type": "stream",
          "name": "stdout",
          "text": [
            "Passed\n",
            "Passed\n",
            "Passed\n",
            "Passed\n",
            "Passed\n",
            "Passed\n",
            "Passed\n",
            "Passed\n",
            "Passed\n",
            "Passed\n",
            "Passed\n",
            "Passed\n"
          ]
        }
      ]
    },
    {
      "cell_type": "markdown",
      "source": [
        "https://edabit.com/challenge/6JNHBeGxY8dhTaPhs (3 балла)"
      ],
      "metadata": {
        "id": "FsEfC51oSBap"
      }
    },
    {
      "cell_type": "code",
      "source": [
        "def collatz(a, b):\n",
        "    def f(x):\n",
        "        res = 0\n",
        "        while x != 1:\n",
        "            if x % 2 == 0:\n",
        "                x /= 2\n",
        "            else:\n",
        "                x *= 3\n",
        "                x += 1\n",
        "            res += 1\n",
        "        return res\n",
        "    if f(a) < f(b):\n",
        "        return('a')\n",
        "    else:\n",
        "        return(\"b\")"
      ],
      "metadata": {
        "id": "klmO1jW0UKJp"
      },
      "execution_count": 12,
      "outputs": []
    },
    {
      "cell_type": "code",
      "source": [
        "Test.assert_equals(collatz(10, 15), \"a\")\n",
        "Test.assert_equals(collatz(13, 16), \"b\")\n",
        "Test.assert_equals(collatz(53782, 72534), \"b\")\n",
        "Test.assert_equals(collatz(72221, 11198), \"b\")\n",
        "Test.assert_equals(collatz(1723817263, 837249873748), \"a\")\n",
        "Test.assert_equals(collatz(556238, 667822), \"b\")\n",
        "Test.assert_equals(collatz(4, 3), \"a\")\n",
        "Test.assert_equals(collatz(64287364823648762384623847823648, 767623964723864823648725736487262), \"a\")\n",
        "Test.assert_equals(collatz(46287364872837482, 1267650600228229401496703205376), \"b\")"
      ],
      "metadata": {
        "colab": {
          "base_uri": "https://localhost:8080/"
        },
        "id": "flmNo2NpURig",
        "outputId": "fcd0121e-520a-4217-e53c-b27d1cbd4574"
      },
      "execution_count": 13,
      "outputs": [
        {
          "output_type": "stream",
          "name": "stdout",
          "text": [
            "Passed\n",
            "Passed\n",
            "Passed\n",
            "Passed\n",
            "Passed\n",
            "Passed\n",
            "Passed\n",
            "Passed\n",
            "Passed\n"
          ]
        }
      ]
    },
    {
      "cell_type": "markdown",
      "source": [
        "https://edabit.com/challenge/f3jX2BwzAuR8DXsy4  (3 балла)"
      ],
      "metadata": {
        "id": "tDBwhuFaVPaf"
      }
    },
    {
      "cell_type": "code",
      "source": [
        "import math\n",
        "\n",
        "def fact_of_fact(n):\n",
        "    res = 1\n",
        "    for i in range(1, n + 1):\n",
        "        res *= math.factorial(i)\n",
        "    return res"
      ],
      "metadata": {
        "id": "LGJLbcT3UeOC"
      },
      "execution_count": 14,
      "outputs": []
    },
    {
      "cell_type": "code",
      "source": [
        "Test.assert_equals(fact_of_fact(4), 288),\n",
        "Test.assert_equals(fact_of_fact(1), 1),\n",
        "Test.assert_equals(fact_of_fact(5), 34560),\n",
        "Test.assert_equals(fact_of_fact(2), 2),\n",
        "Test.assert_equals(fact_of_fact(6), 24883200),\n",
        "Test.assert_equals(fact_of_fact(3), 12),\n",
        "Test.assert_equals(fact_of_fact(14), 69113789582492712943486800506462734562847413501952000000000000000),\n",
        "Test.assert_equals(fact_of_fact(11), 265790267296391946810949632000000000),\n",
        "Test.assert_equals(fact_of_fact(7), 125411328000),\n",
        "Test.assert_equals(fact_of_fact(22), 73185187344722251685917129061596359994436879170423331597220791224873045503248922811481956548134913475324429128068839519292427638045690327208977109451014144000000000000000000000000000000000000000000),\n",
        "Test.assert_equals(fact_of_fact(13), 792786697595796795607377086400871488552960000000000000),\n",
        "Test.assert_equals(fact_of_fact(8), 5056584744960000),\n",
        "Test.assert_equals(fact_of_fact(10), 6658606584104736522240000000),\n",
        "Test.assert_equals(fact_of_fact(9), 1834933472251084800000 ),\n",
        "Test.assert_equals(fact_of_fact(12), 127313963299399416749559771247411200000000000 ),\n",
        "Test.assert_equals(fact_of_fact(15), 90378331112371142262979521568630736335023247731599748366336000000000000000000 ),\n",
        "Test.assert_equals(fact_of_fact(16), 1890966832292234727042877370627225068196418587883634153182519380410368000000000000000000000 ),\n",
        "Test.assert_equals(fact_of_fact(17), 672593129192865130334217631473916658864122332882577979675277211683839238972899328000000000000000000000000 ),\n",
        "Test.assert_equals(fact_of_fact(18), 4306192564997715382115598640379294845786123319603755168023536027873932927153136831171640950784000000000000000000000000000 ),\n",
        "Test.assert_equals(fact_of_fact(19), 523827226948912906162136183269887782788685420217963126789982275317725639664591791615428617583779071590924288000000000000000000000000000000 ),\n",
        "Test.assert_equals(fact_of_fact(20), 1274420312381610764187232669591245728094053576480399681464607478621086015845192873311847341571189522511934190056991170232320000000000000000000000000000000000 ),\n",
        "Test.assert_equals(fact_of_fact(21), 65111334482340755583337032079153276047018894694274871209973336023462275586396482041798135409436085152342597056410325664391109570976337100800000000000000000000000000000000000000 )\n"
      ],
      "metadata": {
        "colab": {
          "base_uri": "https://localhost:8080/"
        },
        "id": "c_jbcvGuVa9y",
        "outputId": "b364689e-d630-4cf0-9ee5-dc49b4e09755"
      },
      "execution_count": 19,
      "outputs": [
        {
          "output_type": "stream",
          "name": "stdout",
          "text": [
            "Passed\n",
            "Passed\n",
            "Passed\n",
            "Passed\n",
            "Passed\n",
            "Passed\n",
            "Passed\n",
            "Passed\n",
            "Passed\n",
            "Passed\n",
            "Passed\n",
            "Passed\n",
            "Passed\n",
            "Passed\n",
            "Passed\n",
            "Passed\n",
            "Passed\n",
            "Passed\n",
            "Passed\n",
            "Passed\n",
            "Passed\n",
            "Passed\n"
          ]
        }
      ]
    }
  ]
}